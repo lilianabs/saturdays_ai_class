{
  "nbformat": 4,
  "nbformat_minor": 0,
  "metadata": {
    "colab": {
      "name": "clase_2_2_experiments_tensorflow.ipynb",
      "provenance": [],
      "authorship_tag": "ABX9TyPlLO7Y2csto/2NdywL8gFi",
      "include_colab_link": true
    },
    "kernelspec": {
      "name": "python3",
      "display_name": "Python 3"
    },
    "language_info": {
      "name": "python"
    }
  },
  "cells": [
    {
      "cell_type": "markdown",
      "metadata": {
        "id": "view-in-github",
        "colab_type": "text"
      },
      "source": [
        "<a href=\"https://colab.research.google.com/github/lilianabs/saturdays_ai_class/blob/main/clase_2_2_experiments_tensorflow.ipynb\" target=\"_parent\"><img src=\"https://colab.research.google.com/assets/colab-badge.svg\" alt=\"Open In Colab\"/></a>"
      ]
    },
    {
      "cell_type": "markdown",
      "metadata": {
        "id": "BMESBVP09qjg"
      },
      "source": [
        "In this notebook, we create a simple neural network to classify clothes from the Fashion MNIST dataset. We create this model first in Tensorflow and then in PyTorch."
      ]
    },
    {
      "cell_type": "code",
      "metadata": {
        "id": "kTg3dL7A9bol"
      },
      "source": [
        "import tensorflow as tf\n",
        "from tensorflow import keras\n",
        "\n",
        "import numpy as np\n",
        "import matplotlib.pyplot as plt"
      ],
      "execution_count": 1,
      "outputs": []
    },
    {
      "cell_type": "code",
      "metadata": {
        "id": "cdmjgV72949I"
      },
      "source": [
        "# Import the dataset\n",
        "fashion_dataset = keras.datasets.fashion_mnist\n",
        "\n",
        "(train_images, train_labels), (test_images, test_labels) = fashion_dataset.load_data()"
      ],
      "execution_count": 2,
      "outputs": []
    },
    {
      "cell_type": "code",
      "metadata": {
        "colab": {
          "base_uri": "https://localhost:8080/",
          "height": 282
        },
        "id": "fp4Zvk7i9nXT",
        "outputId": "0905f9ff-ccea-4fc7-bca2-87a0c8b7fb1d"
      },
      "source": [
        "# Check a few elements from the data\n",
        "\n",
        "plt.figure()\n",
        "plt.imshow(np.squeeze(train_images[10000]))"
      ],
      "execution_count": 3,
      "outputs": [
        {
          "output_type": "execute_result",
          "data": {
            "text/plain": [
              "<matplotlib.image.AxesImage at 0x7fb0aafa3b50>"
            ]
          },
          "metadata": {
            "tags": []
          },
          "execution_count": 3
        },
        {
          "output_type": "display_data",
          "data": {
            "image/png": "[encoded data removed]",
            "text/plain": [
              "<Figure size 432x288 with 1 Axes>"
            ]
          },
          "metadata": {
            "tags": [],
            "needs_background": "light"
          }
        }
      ]
    },
    {
      "cell_type": "code",
      "metadata": {
        "colab": {
          "base_uri": "https://localhost:8080/"
        },
        "id": "w5woOqqG-kgz",
        "outputId": "31f3ed85-559b-4412-a40c-47bb27c7f903"
      },
      "source": [
        "train_labels[10000]"
      ],
      "execution_count": 4,
      "outputs": [
        {
          "output_type": "execute_result",
          "data": {
            "text/plain": [
              "8"
            ]
          },
          "metadata": {
            "tags": []
          },
          "execution_count": 4
        }
      ]
    },
    {
      "cell_type": "code",
      "metadata": {
        "colab": {
          "base_uri": "https://localhost:8080/"
        },
        "id": "m6BXkINA-pDN",
        "outputId": "a7bcd321-e9ed-42c3-d041-f8f234774ad4"
      },
      "source": [
        "type(train_images)"
      ],
      "execution_count": 5,
      "outputs": [
        {
          "output_type": "execute_result",
          "data": {
            "text/plain": [
              "numpy.ndarray"
            ]
          },
          "metadata": {
            "tags": []
          },
          "execution_count": 5
        }
      ]
    },
    {
      "cell_type": "markdown",
      "metadata": {
        "id": "FP4tk7BF-5JR"
      },
      "source": [
        "We normalize the dataset, that is, we normalize the values into the range [0, 1]. We use the following formula:\n",
        "\n",
        "![Screenshot from 2021-05-31 19-35-42.png](data:image/png;base64,iVBORw0KGgoAAAANSUhEUgAAARQAAABgCAYAAADctI0aAAAABHNCSVQICAgIfAhkiAAAABl0RVh0U29mdHdhcmUAZ25vbWUtc2NyZWVuc2hvdO8Dvz4AAAufSURBVHic7d1PSJtpHgfw7ywD4y08HiIMNMscauZgnDlkXFjjDCjpQkwHGimL2oFqexAdqDoHSQpjtzCFHrbR3RkbWG0FjcKWZJdtzKGbdA8mh9UsDIkw1CwsyV6shyE5JT399vBGjbazU9u3ed/q9wMFY5I3j0/NN++f5+fvHREREBHp4BdGD4CITg4GChHphoFCRLphoBCRbhgoRKQbBgoR6YaBQkS6YaAQkW4YKESkGwYKEemGgUJEumGgEJFuGChEpBsGChHphoFCRLphoBCRbhgoRKQbBgoR6YaBQkS6YaAQkW4YKESkGwYKEemGgUJEumGgEJFuGChEpBsGChHphoFCRLphoJx6ZSQD53H+3Edobm6u/fsQv7oSRREAcvdx7sPmg/s+OofzgSTKRg+bzEmIRESkIOE+JUop6QhmD91TSkyIsg9LOFuSSiOHVEqI3+sVd7s2LqWUKHuHDEcKIiKSvecWuzq4r93tFX+i1MgR0hEMFNpXio1qb86OoOxHSiEiw+3DUnsPG6MQlj6lRKkOOZx1JUlMKLEPhyVbamjU0U/gIQ/ts7g86AeA/CqSOQDVTcxcDaDlzh34bAYOzNaLIW1gWE3m9r9djE5isjyPRwsDcFiaDBseHWCg0AGLC77LAJDHzegKomNfIO5ZwlSPxeiBweXpBwDkV5PQsm4GVwMtuHPHByOzjg57R0TE6EGQeVRTAbz/eQgAYL0wj0cLJnnDlpOY/OAiFgFc+3YexZshOJYeYPwTo8OO6nEPhQ5pcnpwzap97RnwmCNMAMDSCd+I9uXslwHg1jzDxIQYKHRINZdBelf7enEtjaqxw6nTBKfnGrSs82DAY5qoozoMFDpQ3UToehyeb66hDQAWo0iaZsFJFblMGlrWLWItrXfUPUUutc31Na+J51CopojolfNY632IBV8Zdz/9DNe3gAtLP2Cht+Ulnr+NlStfYXX3JV/OOY7l6R687EFLdXMGn18HLnRGcX12C+hfwn++633p5//s9pMBfDy2jakHyxhy8IrRKzP2qjWZQ0U2gm5xBzdkb1lYIezV1qQMRsTIJSjaYOrWwmTnpEspUWpYYjtGD4yO4iEPoRgdw9XcCObHP9n/xLe5+tENAPH7SBUNHFx1EzNXQ3DM19bCOHox0gkAf8Fq2siB0Yu8a/QAyEhlbK8EcPHLZ5j6/sjlYZsLvk7gcTqNxeQ2BoZaDRhfEdGxq8iNPMTC/hUdG1z93UD6MeL3Uyj6Bo5ciapic+YrzKZSKDum0I8t5K1ALpRE6/QttKXWkD/bhFwoB9d3yxh3lbE2eRvxcg4p2y38c9qFpuIaArdXkUmW4fnah3y6CCvSiJZH8HDZJJfRzcroXaTnsH7jzSsl5IbXKx32ujlunztYbr+TEL+7/eA+ZZcOr1dGG7n+vvREwqPtogbDzx9yFcLiVUqUcsu9J8/fNzgRkcgNu6iuCYkVRER2JDKoRLknJFF32z6RkGJsQoYjT2T9hl3swzHZEZGNoFfm1mMyoZR0TcS0198IilJdMpcV+j/MFyh7WL9xKpUSN8Tr7Tj8oVH3Lt5J+J/7sPF6R+tqjSpSqmRlrktJl3+9dk5oQ4J2Je697VTWxa/sMhzbEamUpLITk1HVJf517dGVUklKCb8o1SXBDe13rBD2irLzvM3PMW+gSElio89XvxYiw9I+bIIThWRehYgMKiWjsdqea3ZOuuoDY92vhUOhIqWKSCHcJ8odlGxJuy0ishG0i+ryi/YUrRLbPhyTQqXBFddvGROflGX9Br2acj6FOLrR6dDOuxRzcWxZnehxWACUkY6G0OYbwtlcAFeif8da6DG6L3uAlUu4nSkDyCET3YXV2QOHBcDTHJKP2+AbsiEzdgVRngv+SSYOFMDi8uEyAORvIroSxdgXcXiWpmB4rRqZWnE7CWu3D04bAJSRS6fh9PngtACABVZHJ3YzM5hNOjHt60Cr8wx2VwMIPRvHiMsClIvY2nLC53NqV71abHB17iIzE0KqZ9rYymuTM/nCtipSgfeh1apZcWH+ERb4v0lkWqbeQ2H9BtHbxeTrUI7Wb9xCT8/btiy6iOjYGO4f57jb0o/fLw/AiJUfRK/D1Ic8b7p+g4j0Zd5AKUZx5fwaeh8uwFe+i08/u44tXMDSDwt4qVq1E665udnoIdBr+PHHH40ewhthzkCpbmLm8+vAN3t/kauIlfMf48s04Jn/Hss8MUtkSiY8h/IK9RvVTdwNhJCMZ2CbmoIlkwEsRURzLny3PA5XbTPV7TWEZldRtHaiKbeI7Z5vsdz7XwQmV5DJt8A3BOR338PTjAXjf/Ygc30WqVQZjql+YCsPK3IIJVsxfasNqbU8zjblEDryGi/+eXgOhU4J49bUvcAr1m/sRIZlIrEuc11KVN+cZCsisqOtlpyo1flUNoLitbsluFFbPVmIyKBqlWtjXglG7smgUtI3l5X1uXZR9j75wx8HZSISkRv2unqO2jbdE4m62/b91yA67UwRKK9dv1EpSeWJFjiDEa3YorLuF6XcEsxWpH7p9H4pRi2gRv70Lykk/KJUn4QLIlotSG2bR5Zsy0ZQ7MotByUhfhPVd5Qk4feK92hR316ZQvaeuA8VA7rF60/IyYxCzoVRTBEoetiJDB4KhfUb9oP6jEJMhpWSvvDBfk8h3CfKrj0+G7SLctdV2+49JjIoSo3KQUlIV119R0XW/Was7zBhB0DDcC4azeQL215WGVupOODsgcMGAHlkVnfRfbkH1fuXMPPvd2GzAi2WvZMpm7gfysMzNQ2frYh8ZhdtHifOHtlmPhUHuju1eg4UkYtvHdR3lNOIhtrgGzqLXMBM9R029A4droECABSjmJwsY/7RAgYcFrxtq3leDeei0U5IoBSxnbSi+3IPHAAAGxyeM9hd/R0WMY6h7t9gaukbPL15BYG7AYxdXYV16gHmhxxoqhaRibfB5Ww98otV26bPqZ0ALueQTtfVd1iscHTuIjMzi6TTXPUdpu0AaADORWOZ87JxQ5VR3HwKyyetJ2jBXBnJyQ9wcRHAtW8xX7yJkGMJD+r+xOPpwbloJAbKCWXaDoAG4Fw0zgk55KGjTNsB0ACci8ZhoJxQ5u0A2Hhvei6e5lLYZocwAAyUk8nUHQAb7E3PRTWJ2YtXEYjmTnVo7+E5lBPndTsANtqb7Dj4ts3FCWDkIhjSm8k7ADYU58IIJiwOpFe11wHw4cLRDoBpPI7fR6row8DhqspjNsXStlrdjuJmYA1wNGE7D7TAiZH5ITiwjejNEDLvPUMuDjh6gHK5jLx1BH+bdjV0AVkj5qK4Nonb8TJyKRtu/XMarl02COMeyolQkifhUWlXgxJ+vqpSwl5t+bn7aFXlMZtilUQrsnSrPpnLVmS/1Yn7njwRkexcX62PzYYElZKuYEwio0rsfS8o9nxjGjQXpZhMDEfkyfoNsdfqudgg7ATV8pxKr90B8JhNsfZqYwYjtSLL2nODG6LVU9bqYgph8dYXVTZCw+eiIqXKjsRGDx7PBmEMFDpOU6xakeX+p/t+cOxIpa6LYyk2Kso+IYlaEeVb0+DxmA3CtO6WbglmS/s//2lvEMbLxqfcsZpi/eMZWgC02bQrJNvJKNJwoBNRXLr9V8yda8aHgRWsxVeBs06csQDV1G2MRbeN+wGP4XgNworIrYXwuPsyPFjBpdsZlNkgjOtQTrtjNcX6rQ8jS/1IzwQQmBzDInrQfyaH2ZkMevt/jV+eaYOzGEfy7NfoLy5iNjCJQKYHtwbejr89d7wGYTbYWp04s7uKQOgZxkdcsLBBGNehEJF+uIdCRLphoBCRbhgoRKQbBgoR6YaBQkS6YaAQkW4YKESkGwYKEemGgUJEumGgEJFuGChEpBsGChHphoFCRLphoBCRbhgoRKQbBgoR6YaBQkS6YaAQkW4YKESkGwYKEemGgUJEumGgEJFuGChEpBsGChHp5n9Tz5GrdnpPtgAAAABJRU5ErkJggg==)\n",
        "\n",
        "In this case, remember that the maximum value each pixel can have is 255 and the minimum is 0.\n"
      ]
    },
    {
      "cell_type": "code",
      "metadata": {
        "id": "bIjbZLaE-wb4"
      },
      "source": [
        "\n",
        "train_images = train_images / 255.0\n",
        "test_images = test_images / 255.0\n"
      ],
      "execution_count": 3,
      "outputs": []
    },
    {
      "cell_type": "code",
      "metadata": {
        "id": "5gm0Owjl-004"
      },
      "source": [
        "# Create the neural network\n",
        "\n",
        "model_adam = keras.Sequential([\n",
        "                          keras.layers.Flatten(input_shape=(28, 28)),\n",
        "                          keras.layers.Dense(128, activation='relu'),\n",
        "                          keras.layers.Dense(10, activation='softmax')\n",
        "])"
      ],
      "execution_count": 4,
      "outputs": []
    },
    {
      "cell_type": "code",
      "metadata": {
        "colab": {
          "base_uri": "https://localhost:8080/"
        },
        "id": "u8_DhWP8Ax2G",
        "outputId": "edb5ef0b-ced8-4f34-a2f3-73cc201607ef"
      },
      "source": [
        "model_adam.summary()"
      ],
      "execution_count": 9,
      "outputs": [
        {
          "output_type": "stream",
          "text": [
            "Model: \"sequential\"\n",
            "_________________________________________________________________\n",
            "Layer (type)                 Output Shape              Param #   \n",
            "=================================================================\n",
            "flatten (Flatten)            (None, 784)               0         \n",
            "_________________________________________________________________\n",
            "dense (Dense)                (None, 128)               100480    \n",
            "_________________________________________________________________\n",
            "dense_1 (Dense)              (None, 10)                1290      \n",
            "=================================================================\n",
            "Total params: 101,770\n",
            "Trainable params: 101,770\n",
            "Non-trainable params: 0\n",
            "_________________________________________________________________\n"
          ],
          "name": "stdout"
        }
      ]
    },
    {
      "cell_type": "markdown",
      "metadata": {
        "id": "2dh9pPBQBI14"
      },
      "source": [
        "The table above shows the numbers of parameters of each layer. For example, the hidden layer has 128 neurons and the total number of its parameters is: (784x128) + 128 = 100480 (recall that it has 784 inputs x 784 weights + 128 bias parameters). "
      ]
    },
    {
      "cell_type": "code",
      "metadata": {
        "id": "OCK6HJ-WAzX1"
      },
      "source": [
        "# Set the optimization algorithm (algorithm)\n",
        "\n",
        "model_adam.compile(optimizer=tf.optimizers.Adam(),\n",
        "              loss='sparse_categorical_crossentropy',\n",
        "              metrics=['accuracy']\n",
        ")"
      ],
      "execution_count": 10,
      "outputs": []
    },
    {
      "cell_type": "code",
      "metadata": {
        "colab": {
          "base_uri": "https://localhost:8080/"
        },
        "id": "L_IjL0ndECG3",
        "outputId": "6f20a2b2-1b54-48cb-a7c9-f6bbd1cee3a8"
      },
      "source": [
        "model_adam.fit(train_images, train_labels, epochs=20)"
      ],
      "execution_count": 11,
      "outputs": [
        {
          "output_type": "stream",
          "text": [
            "Epoch 1/20\n",
            "1875/1875 [==============================] - 5s 2ms/step - loss: 0.4945 - accuracy: 0.8256\n",
            "Epoch 2/20\n",
            "1875/1875 [==============================] - 4s 2ms/step - loss: 0.3767 - accuracy: 0.8647\n",
            "Epoch 3/20\n",
            "1875/1875 [==============================] - 4s 2ms/step - loss: 0.3367 - accuracy: 0.8780\n",
            "Epoch 4/20\n",
            "1875/1875 [==============================] - 4s 2ms/step - loss: 0.3140 - accuracy: 0.8851\n",
            "Epoch 5/20\n",
            "1875/1875 [==============================] - 4s 2ms/step - loss: 0.2948 - accuracy: 0.8918\n",
            "Epoch 6/20\n",
            "1875/1875 [==============================] - 4s 2ms/step - loss: 0.2807 - accuracy: 0.8952\n",
            "Epoch 7/20\n",
            "1875/1875 [==============================] - 4s 2ms/step - loss: 0.2683 - accuracy: 0.9002\n",
            "Epoch 8/20\n",
            "1875/1875 [==============================] - 4s 2ms/step - loss: 0.2577 - accuracy: 0.9040\n",
            "Epoch 9/20\n",
            "1875/1875 [==============================] - 4s 2ms/step - loss: 0.2481 - accuracy: 0.9077\n",
            "Epoch 10/20\n",
            "1875/1875 [==============================] - 4s 2ms/step - loss: 0.2400 - accuracy: 0.9107\n",
            "Epoch 11/20\n",
            "1875/1875 [==============================] - 4s 2ms/step - loss: 0.2310 - accuracy: 0.9136\n",
            "Epoch 12/20\n",
            "1875/1875 [==============================] - 4s 2ms/step - loss: 0.2235 - accuracy: 0.9164\n",
            "Epoch 13/20\n",
            "1875/1875 [==============================] - 4s 2ms/step - loss: 0.2143 - accuracy: 0.9195\n",
            "Epoch 14/20\n",
            "1875/1875 [==============================] - 4s 2ms/step - loss: 0.2095 - accuracy: 0.9216\n",
            "Epoch 15/20\n",
            "1875/1875 [==============================] - 4s 2ms/step - loss: 0.2020 - accuracy: 0.9244\n",
            "Epoch 16/20\n",
            "1875/1875 [==============================] - 4s 2ms/step - loss: 0.1965 - accuracy: 0.9261\n",
            "Epoch 17/20\n",
            "1875/1875 [==============================] - 4s 2ms/step - loss: 0.1920 - accuracy: 0.9268\n",
            "Epoch 18/20\n",
            "1875/1875 [==============================] - 4s 2ms/step - loss: 0.1877 - accuracy: 0.9296\n",
            "Epoch 19/20\n",
            "1875/1875 [==============================] - 4s 2ms/step - loss: 0.1837 - accuracy: 0.9313\n",
            "Epoch 20/20\n",
            "1875/1875 [==============================] - 4s 2ms/step - loss: 0.1794 - accuracy: 0.9320\n"
          ],
          "name": "stdout"
        },
        {
          "output_type": "execute_result",
          "data": {
            "text/plain": [
              "<tensorflow.python.keras.callbacks.History at 0x7fb0a6518310>"
            ]
          },
          "metadata": {
            "tags": []
          },
          "execution_count": 11
        }
      ]
    },
    {
      "cell_type": "code",
      "metadata": {
        "colab": {
          "base_uri": "https://localhost:8080/"
        },
        "id": "irS48rMyEIDu",
        "outputId": "b60594ab-deb6-477c-ecc7-4054585ec036"
      },
      "source": [
        "# What happens if the change the optimizer?\n",
        "model_sgd = keras.Sequential([\n",
        "                          keras.layers.Flatten(input_shape=(28, 28)),\n",
        "                          keras.layers.Dense(128, activation='relu'),\n",
        "                          keras.layers.Dense(10, activation='softmax')\n",
        "])\n",
        "\n",
        "\n",
        "model_sgd.compile(optimizer=tf.optimizers.SGD(),\n",
        "              loss='sparse_categorical_crossentropy',\n",
        "              metrics=['accuracy']\n",
        ")\n",
        "\n",
        "model_sgd.fit(train_images, train_labels, epochs=20)"
      ],
      "execution_count": 8,
      "outputs": [
        {
          "output_type": "stream",
          "text": [
            "Epoch 1/20\n",
            "1875/1875 [==============================] - 4s 2ms/step - loss: 0.7303 - accuracy: 0.7637\n",
            "Epoch 2/20\n",
            "1875/1875 [==============================] - 3s 2ms/step - loss: 0.5127 - accuracy: 0.8255\n",
            "Epoch 3/20\n",
            "1875/1875 [==============================] - 3s 2ms/step - loss: 0.4700 - accuracy: 0.8375\n",
            "Epoch 4/20\n",
            "1875/1875 [==============================] - 3s 2ms/step - loss: 0.4466 - accuracy: 0.8450\n",
            "Epoch 5/20\n",
            "1875/1875 [==============================] - 3s 2ms/step - loss: 0.4294 - accuracy: 0.8514\n",
            "Epoch 6/20\n",
            "1875/1875 [==============================] - 3s 2ms/step - loss: 0.4159 - accuracy: 0.8548\n",
            "Epoch 7/20\n",
            "1875/1875 [==============================] - 3s 2ms/step - loss: 0.4044 - accuracy: 0.8600\n",
            "Epoch 8/20\n",
            "1875/1875 [==============================] - 3s 2ms/step - loss: 0.3944 - accuracy: 0.8622\n",
            "Epoch 9/20\n",
            "1875/1875 [==============================] - 3s 2ms/step - loss: 0.3850 - accuracy: 0.8658\n",
            "Epoch 10/20\n",
            "1875/1875 [==============================] - 3s 2ms/step - loss: 0.3773 - accuracy: 0.8696\n",
            "Epoch 11/20\n",
            "1875/1875 [==============================] - 3s 2ms/step - loss: 0.3707 - accuracy: 0.8702\n",
            "Epoch 12/20\n",
            "1875/1875 [==============================] - 3s 2ms/step - loss: 0.3635 - accuracy: 0.8718\n",
            "Epoch 13/20\n",
            "1875/1875 [==============================] - 3s 2ms/step - loss: 0.3572 - accuracy: 0.8759\n",
            "Epoch 14/20\n",
            "1875/1875 [==============================] - 3s 2ms/step - loss: 0.3516 - accuracy: 0.8763\n",
            "Epoch 15/20\n",
            "1875/1875 [==============================] - 3s 2ms/step - loss: 0.3462 - accuracy: 0.8793\n",
            "Epoch 16/20\n",
            "1875/1875 [==============================] - 3s 2ms/step - loss: 0.3410 - accuracy: 0.8801\n",
            "Epoch 17/20\n",
            "1875/1875 [==============================] - 3s 2ms/step - loss: 0.3369 - accuracy: 0.8812\n",
            "Epoch 18/20\n",
            "1875/1875 [==============================] - 3s 2ms/step - loss: 0.3314 - accuracy: 0.8831\n",
            "Epoch 19/20\n",
            "1875/1875 [==============================] - 3s 2ms/step - loss: 0.3271 - accuracy: 0.8838\n",
            "Epoch 20/20\n",
            "1875/1875 [==============================] - 3s 2ms/step - loss: 0.3236 - accuracy: 0.8843\n"
          ],
          "name": "stdout"
        },
        {
          "output_type": "execute_result",
          "data": {
            "text/plain": [
              "<tensorflow.python.keras.callbacks.History at 0x7f8eb81971d0>"
            ]
          },
          "metadata": {
            "tags": []
          },
          "execution_count": 8
        }
      ]
    },
    {
      "cell_type": "code",
      "metadata": {
        "colab": {
          "base_uri": "https://localhost:8080/"
        },
        "id": "MsBy4jxUFdYH",
        "outputId": "d44ab6f2-88c8-4afb-97d8-b6b3d579015a"
      },
      "source": [
        "# What happens if we change the architcture?\n",
        "\n",
        "# What happens if the change the optimizer?\n",
        "model_hidden_256 = keras.Sequential([\n",
        "                          keras.layers.Flatten(input_shape=(28, 28)),\n",
        "                          keras.layers.Dense(256, activation='relu'),\n",
        "                          keras.layers.Dense(10, activation='softmax')\n",
        "])\n",
        "\n",
        "\n",
        "model_hidden_256.compile(optimizer=tf.optimizers.Adam(),\n",
        "              loss='sparse_categorical_crossentropy',\n",
        "              metrics=['accuracy']\n",
        ")\n",
        "\n",
        "model_hidden_256.fit(train_images, train_labels, epochs=20)"
      ],
      "execution_count": 9,
      "outputs": [
        {
          "output_type": "stream",
          "text": [
            "Epoch 1/20\n",
            "1875/1875 [==============================] - 6s 3ms/step - loss: 0.4823 - accuracy: 0.8271\n",
            "Epoch 2/20\n",
            "1875/1875 [==============================] - 5s 3ms/step - loss: 0.3650 - accuracy: 0.8679\n",
            "Epoch 3/20\n",
            "1875/1875 [==============================] - 5s 3ms/step - loss: 0.3253 - accuracy: 0.8820\n",
            "Epoch 4/20\n",
            "1875/1875 [==============================] - 5s 3ms/step - loss: 0.3029 - accuracy: 0.8881\n",
            "Epoch 5/20\n",
            "1875/1875 [==============================] - 5s 3ms/step - loss: 0.2859 - accuracy: 0.8947\n",
            "Epoch 6/20\n",
            "1875/1875 [==============================] - 5s 3ms/step - loss: 0.2702 - accuracy: 0.8997\n",
            "Epoch 7/20\n",
            "1875/1875 [==============================] - 5s 3ms/step - loss: 0.2585 - accuracy: 0.9030\n",
            "Epoch 8/20\n",
            "1875/1875 [==============================] - 5s 3ms/step - loss: 0.2466 - accuracy: 0.9080\n",
            "Epoch 9/20\n",
            "1875/1875 [==============================] - 5s 3ms/step - loss: 0.2362 - accuracy: 0.9125\n",
            "Epoch 10/20\n",
            "1875/1875 [==============================] - 5s 3ms/step - loss: 0.2281 - accuracy: 0.9144\n",
            "Epoch 11/20\n",
            "1875/1875 [==============================] - 5s 3ms/step - loss: 0.2169 - accuracy: 0.9181\n",
            "Epoch 12/20\n",
            "1875/1875 [==============================] - 5s 3ms/step - loss: 0.2117 - accuracy: 0.9196\n",
            "Epoch 13/20\n",
            "1875/1875 [==============================] - 5s 3ms/step - loss: 0.2029 - accuracy: 0.9237\n",
            "Epoch 14/20\n",
            "1875/1875 [==============================] - 5s 3ms/step - loss: 0.1978 - accuracy: 0.9249\n",
            "Epoch 15/20\n",
            "1875/1875 [==============================] - 5s 3ms/step - loss: 0.1899 - accuracy: 0.9283\n",
            "Epoch 16/20\n",
            "1875/1875 [==============================] - 5s 3ms/step - loss: 0.1857 - accuracy: 0.9306\n",
            "Epoch 17/20\n",
            "1875/1875 [==============================] - 5s 3ms/step - loss: 0.1815 - accuracy: 0.9314\n",
            "Epoch 18/20\n",
            "1875/1875 [==============================] - 6s 3ms/step - loss: 0.1709 - accuracy: 0.9364\n",
            "Epoch 19/20\n",
            "1875/1875 [==============================] - 6s 3ms/step - loss: 0.1672 - accuracy: 0.9367\n",
            "Epoch 20/20\n",
            "1875/1875 [==============================] - 6s 3ms/step - loss: 0.1640 - accuracy: 0.9384\n"
          ],
          "name": "stdout"
        },
        {
          "output_type": "execute_result",
          "data": {
            "text/plain": [
              "<tensorflow.python.keras.callbacks.History at 0x7f8eb7f9c5d0>"
            ]
          },
          "metadata": {
            "tags": []
          },
          "execution_count": 9
        }
      ]
    },
    {
      "cell_type": "code",
      "metadata": {
        "id": "4-Ro9xRdFjsl"
      },
      "source": [
        "# What happens if we don't normalize the data?"
      ],
      "execution_count": 10,
      "outputs": []
    },
    {
      "cell_type": "code",
      "metadata": {
        "id": "MF2Cze0CMSbW"
      },
      "source": [
        ""
      ],
      "execution_count": null,
      "outputs": []
    }
  ]
}