{
  "nbformat": 4,
  "nbformat_minor": 0,
  "metadata": {
    "colab": {
      "name": "clase_2_2_experiments.ipynb",
      "provenance": [],
      "authorship_tag": "ABX9TyPIVal6kcNGi5yMQWoG0Ph+",
      "include_colab_link": true
    },
    "kernelspec": {
      "name": "python3",
      "display_name": "Python 3"
    },
    "language_info": {
      "name": "python"
    }
  },
  "cells": [
    {
      "cell_type": "markdown",
      "metadata": {
        "id": "view-in-github",
        "colab_type": "text"
      },
      "source": [
        "<a href=\"https://colab.research.google.com/github/lilianabs/saturdays_ai_class/blob/main/clase_2_2_experiments.ipynb\" target=\"_parent\"><img src=\"https://colab.research.google.com/assets/colab-badge.svg\" alt=\"Open In Colab\"/></a>"
      ]
    },
    {
      "cell_type": "markdown",
      "metadata": {
        "id": "BMESBVP09qjg"
      },
      "source": [
        "In this notebook, we create a simple neural network to classify clothes from the Fashion MNIST dataset. We create this model first in Tensorflow and then in PyTorch."
      ]
    },
    {
      "cell_type": "code",
      "metadata": {
        "id": "kTg3dL7A9bol"
      },
      "source": [
        "import tensorflow as tf\n",
        "from tensorflow import keras\n",
        "\n",
        "import numpy as np\n",
        "import matplotlib.pyplot as plt"
      ],
      "execution_count": 1,
      "outputs": []
    },
    {
      "cell_type": "code",
      "metadata": {
        "colab": {
          "base_uri": "https://localhost:8080/"
        },
        "id": "cdmjgV72949I",
        "outputId": "d1001a08-5489-4320-d008-7d4e5626d1dd"
      },
      "source": [
        "# Import the dataset\n",
        "fashion_dataset = keras.datasets.fashion_mnist\n",
        "\n",
        "(train_images, train_labels), (test_images, test_labels) = fashion_dataset.load_data()"
      ],
      "execution_count": 2,
      "outputs": [
        {
          "output_type": "stream",
          "text": [
            "Downloading data from https://storage.googleapis.com/tensorflow/tf-keras-datasets/train-labels-idx1-ubyte.gz\n",
            "32768/29515 [=================================] - 0s 0us/step\n",
            "Downloading data from https://storage.googleapis.com/tensorflow/tf-keras-datasets/train-images-idx3-ubyte.gz\n",
            "26427392/26421880 [==============================] - 1s 0us/step\n",
            "Downloading data from https://storage.googleapis.com/tensorflow/tf-keras-datasets/t10k-labels-idx1-ubyte.gz\n",
            "8192/5148 [===============================================] - 0s 0us/step\n",
            "Downloading data from https://storage.googleapis.com/tensorflow/tf-keras-datasets/t10k-images-idx3-ubyte.gz\n",
            "4423680/4422102 [==============================] - 0s 0us/step\n"
          ],
          "name": "stdout"
        }
      ]
    },
    {
      "cell_type": "code",
      "metadata": {
        "colab": {
          "base_uri": "https://localhost:8080/",
          "height": 282
        },
        "id": "fp4Zvk7i9nXT",
        "outputId": "0905f9ff-ccea-4fc7-bca2-87a0c8b7fb1d"
      },
      "source": [
        "# Check a few elements from the data\n",
        "\n",
        "plt.figure()\n",
        "plt.imshow(np.squeeze(train_images[10000]))"
      ],
      "execution_count": 3,
      "outputs": [
        {
          "output_type": "execute_result",
          "data": {
            "text/plain": [
              "<matplotlib.image.AxesImage at 0x7fb0aafa3b50>"
            ]
          },
          "metadata": {
            "tags": []
          },
          "execution_count": 3
        },
        {
          "output_type": "display_data",
          "data": {
            "image/png": "[encoded data removed]",
            "text/plain": [
              "<Figure size 432x288 with 1 Axes>"
            ]
          },
          "metadata": {
            "tags": [],
            "needs_background": "light"
          }
        }
      ]
    },
    {
      "cell_type": "code",
      "metadata": {
        "colab": {
          "base_uri": "https://localhost:8080/"
        },
        "id": "w5woOqqG-kgz",
        "outputId": "31f3ed85-559b-4412-a40c-47bb27c7f903"
      },
      "source": [
        "train_labels[10000]"
      ],
      "execution_count": 4,
      "outputs": [
        {
          "output_type": "execute_result",
          "data": {
            "text/plain": [
              "8"
            ]
          },
          "metadata": {
            "tags": []
          },
          "execution_count": 4
        }
      ]
    },
    {
      "cell_type": "code",
      "metadata": {
        "colab": {
          "base_uri": "https://localhost:8080/"
        },
        "id": "m6BXkINA-pDN",
        "outputId": "a7bcd321-e9ed-42c3-d041-f8f234774ad4"
      },
      "source": [
        "type(train_images)"
      ],
      "execution_count": 5,
      "outputs": [
        {
          "output_type": "execute_result",
          "data": {
            "text/plain": [
              "numpy.ndarray"
            ]
          },
          "metadata": {
            "tags": []
          },
          "execution_count": 5
        }
      ]
    },
    {
      "cell_type": "markdown",
      "metadata": {
        "id": "FP4tk7BF-5JR"
      },
      "source": [
        "We normalize the dataset, that is, we normalize the values into the range [0, 1]. We use the following formula:\n",
        "\n",
        "![Screenshot from 2021-05-31 19-35-42.png](data:image/png;base64,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)\n",
        "\n",
        "In this case, remember that the maximum value each pixel can have is 255 and the minimum is 0.\n"
      ]
    },
    {
      "cell_type": "code",
      "metadata": {
        "id": "bIjbZLaE-wb4"
      },
      "source": [
        "\n",
        "train_images = train_images / 255.0\n",
        "test_images = test_images / 255.0\n"
      ],
      "execution_count": 7,
      "outputs": []
    },
    {
      "cell_type": "code",
      "metadata": {
        "id": "5gm0Owjl-004"
      },
      "source": [
        "# Create the neural network\n",
        "\n",
        "model = keras.Sequential([\n",
        "                          keras.layers.Flatten(input_shape=(28, 28)),\n",
        "                          keras.layers.Dense(128, activation='relu'),\n",
        "                          keras.layers.Dense(10, activation='softmax')\n",
        "])"
      ],
      "execution_count": 8,
      "outputs": []
    },
    {
      "cell_type": "code",
      "metadata": {
        "colab": {
          "base_uri": "https://localhost:8080/"
        },
        "id": "u8_DhWP8Ax2G",
        "outputId": "edb5ef0b-ced8-4f34-a2f3-73cc201607ef"
      },
      "source": [
        "model.summary()"
      ],
      "execution_count": 9,
      "outputs": [
        {
          "output_type": "stream",
          "text": [
            "Model: \"sequential\"\n",
            "_________________________________________________________________\n",
            "Layer (type)                 Output Shape              Param #   \n",
            "=================================================================\n",
            "flatten (Flatten)            (None, 784)               0         \n",
            "_________________________________________________________________\n",
            "dense (Dense)                (None, 128)               100480    \n",
            "_________________________________________________________________\n",
            "dense_1 (Dense)              (None, 10)                1290      \n",
            "=================================================================\n",
            "Total params: 101,770\n",
            "Trainable params: 101,770\n",
            "Non-trainable params: 0\n",
            "_________________________________________________________________\n"
          ],
          "name": "stdout"
        }
      ]
    },
    {
      "cell_type": "markdown",
      "metadata": {
        "id": "2dh9pPBQBI14"
      },
      "source": [
        ""
      ]
    },
    {
      "cell_type": "code",
      "metadata": {
        "id": "OCK6HJ-WAzX1"
      },
      "source": [
        ""
      ],
      "execution_count": null,
      "outputs": []
    }
  ]
}