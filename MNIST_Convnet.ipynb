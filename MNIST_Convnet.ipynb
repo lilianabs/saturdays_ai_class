{
  "nbformat": 4,
  "nbformat_minor": 0,
  "metadata": {
    "colab": {
      "name": "MNIST_Convnet.ipynb",
      "provenance": [],
      "authorship_tag": "ABX9TyMQr4U19ddZdMKzILH0FDzy",
      "include_colab_link": true
    },
    "kernelspec": {
      "name": "python3",
      "display_name": "Python 3"
    },
    "language_info": {
      "name": "python"
    }
  },
  "cells": [
    {
      "cell_type": "markdown",
      "metadata": {
        "id": "view-in-github",
        "colab_type": "text"
      },
      "source": [
        "<a href=\"https://colab.research.google.com/github/lilianabs/saturdays_ai_class/blob/main/MNIST_Convnet.ipynb\" target=\"_parent\"><img src=\"https://colab.research.google.com/assets/colab-badge.svg\" alt=\"Open In Colab\"/></a>"
      ]
    },
    {
      "cell_type": "code",
      "metadata": {
        "id": "N6U713x6oPcB"
      },
      "source": [
        "import tensorflow as tf\n",
        "from tensorflow import keras\n",
        "\n",
        "import numpy as np\n",
        "import matplotlib.pyplot as plt\n",
        "from tensorflow.keras import layers"
      ],
      "execution_count": 2,
      "outputs": []
    },
    {
      "cell_type": "code",
      "metadata": {
        "id": "AQYoR7wyqXlQ"
      },
      "source": [
        "num_clases = 10\n",
        "input_shape = (28, 28, 1)"
      ],
      "execution_count": 3,
      "outputs": []
    },
    {
      "cell_type": "code",
      "metadata": {
        "colab": {
          "base_uri": "https://localhost:8080/"
        },
        "id": "jdWch2pfsRWa",
        "outputId": "e6847600-3f5c-4320-9a3d-28515a7ef36a"
      },
      "source": [
        "#Load the data\n",
        "(x_train, y_train), (x_test, y_test) = keras.datasets.mnist.load_data()"
      ],
      "execution_count": 4,
      "outputs": [
        {
          "output_type": "stream",
          "text": [
            "Downloading data from https://storage.googleapis.com/tensorflow/tf-keras-datasets/mnist.npz\n",
            "11493376/11490434 [==============================] - 0s 0us/step\n"
          ],
          "name": "stdout"
        }
      ]
    },
    {
      "cell_type": "code",
      "metadata": {
        "id": "hjhZXawpsiDK"
      },
      "source": [
        "#Scale images to the [0, 1] range\n",
        "x_train = x_train.astype(\"float32\") / 255\n",
        "x_test = x_test.astype(\"float32\") / 255"
      ],
      "execution_count": 5,
      "outputs": []
    },
    {
      "cell_type": "code",
      "metadata": {
        "id": "QJEubvUAuOMj"
      },
      "source": [
        "# Make sure images have shape (28, 28, 1)\n",
        "x_train = np.expand_dims(x_train, -1)\n",
        "x_test = np.expand_dims(x_test, -1)"
      ],
      "execution_count": 7,
      "outputs": []
    },
    {
      "cell_type": "code",
      "metadata": {
        "colab": {
          "base_uri": "https://localhost:8080/"
        },
        "id": "5-N_7rh_uSiu",
        "outputId": "8cae70c9-90c2-4e47-f74d-5699351f7b2e"
      },
      "source": [
        "print(\"x_train.shape \", x_train.shape)"
      ],
      "execution_count": 8,
      "outputs": [
        {
          "output_type": "stream",
          "text": [
            "x_train.shape  (60000, 28, 28, 1)\n"
          ],
          "name": "stdout"
        }
      ]
    },
    {
      "cell_type": "code",
      "metadata": {
        "colab": {
          "base_uri": "https://localhost:8080/"
        },
        "id": "FEClwuaRvez0",
        "outputId": "83cb57b3-27f7-43e4-da41-a4826a520ec8"
      },
      "source": [
        "y_train[0]"
      ],
      "execution_count": 10,
      "outputs": [
        {
          "output_type": "execute_result",
          "data": {
            "text/plain": [
              "array([0., 0., 0., 0., 0., 1., 0., 0., 0., 0.], dtype=float32)"
            ]
          },
          "metadata": {
            "tags": []
          },
          "execution_count": 10
        }
      ]
    },
    {
      "cell_type": "code",
      "metadata": {
        "id": "eBaVfzNuvBxX"
      },
      "source": [
        "#convert class vectors to binary class matrices\n",
        "y_train = keras.utils.to_categorical(y_train, num_clases)\n",
        "y_test = keras.utils.to_categorical(y_test, num_clases)"
      ],
      "execution_count": 9,
      "outputs": []
    },
    {
      "cell_type": "code",
      "metadata": {
        "colab": {
          "base_uri": "https://localhost:8080/"
        },
        "id": "JePj7kLDvj26",
        "outputId": "5e00db8a-c04c-42c1-f04a-2de6868dea4f"
      },
      "source": [
        "# Create the CNN model\n",
        "\n",
        "model = keras.Sequential(\n",
        "     [\n",
        "      keras.Input(shape=input_shape),\n",
        "      layers.Conv2D(32, kernel_size=(3, 3), activation=\"relu\"),\n",
        "      layers.MaxPool2D(pool_size=(2, 2)),\n",
        "      layers.Conv2D(64, kernel_size=(3, 3), activation=\"relu\"),\n",
        "      layers.MaxPool2D(pool_size=(2, 2)),\n",
        "      layers.Flatten(),\n",
        "      layers.Dropout(0.5),\n",
        "      layers.Dense(num_clases, activation=\"softmax\") \n",
        "     ]\n",
        ")\n",
        "\n",
        "model.summary()"
      ],
      "execution_count": 16,
      "outputs": [
        {
          "output_type": "stream",
          "text": [
            "WARNING:tensorflow:Please add `keras.layers.InputLayer` instead of `keras.Input` to Sequential model. `keras.Input` is intended to be used by Functional model.\n",
            "Model: \"sequential_2\"\n",
            "_________________________________________________________________\n",
            "Layer (type)                 Output Shape              Param #   \n",
            "=================================================================\n",
            "conv2d_4 (Conv2D)            (None, 26, 26, 32)        320       \n",
            "_________________________________________________________________\n",
            "max_pooling2d_4 (MaxPooling2 (None, 13, 13, 32)        0         \n",
            "_________________________________________________________________\n",
            "conv2d_5 (Conv2D)            (None, 11, 11, 64)        18496     \n",
            "_________________________________________________________________\n",
            "max_pooling2d_5 (MaxPooling2 (None, 5, 5, 64)          0         \n",
            "_________________________________________________________________\n",
            "flatten_2 (Flatten)          (None, 1600)              0         \n",
            "_________________________________________________________________\n",
            "dropout_2 (Dropout)          (None, 1600)              0         \n",
            "_________________________________________________________________\n",
            "dense_2 (Dense)              (None, 10)                16010     \n",
            "=================================================================\n",
            "Total params: 34,826\n",
            "Trainable params: 34,826\n",
            "Non-trainable params: 0\n",
            "_________________________________________________________________\n"
          ],
          "name": "stdout"
        }
      ]
    },
    {
      "cell_type": "code",
      "metadata": {
        "id": "Uqu50nzJwtpD"
      },
      "source": [
        "#Train the model\n",
        "batch_size = 128\n",
        "epochs = 15"
      ],
      "execution_count": 17,
      "outputs": []
    },
    {
      "cell_type": "code",
      "metadata": {
        "id": "ycqGWEN9xKxH"
      },
      "source": [
        "model.compile(loss=\"categorical_crossentropy\", optimizer=\"adam\", metrics=[\"accuracy\"])"
      ],
      "execution_count": 19,
      "outputs": []
    },
    {
      "cell_type": "code",
      "metadata": {
        "colab": {
          "base_uri": "https://localhost:8080/"
        },
        "id": "Dui9rtsxxS8E",
        "outputId": "9ca233ac-da5e-4fad-8974-9133efa5c705"
      },
      "source": [
        "model.fit(x_train, y_train, batch_size=batch_size, epochs=epochs, validation_split=0.1)"
      ],
      "execution_count": 20,
      "outputs": [
        {
          "output_type": "stream",
          "text": [
            "Epoch 1/15\n",
            "422/422 [==============================] - 43s 100ms/step - loss: 0.3754 - accuracy: 0.8856 - val_loss: 0.0889 - val_accuracy: 0.9765\n",
            "Epoch 2/15\n",
            "422/422 [==============================] - 42s 99ms/step - loss: 0.1184 - accuracy: 0.9634 - val_loss: 0.0614 - val_accuracy: 0.9838\n",
            "Epoch 3/15\n",
            "422/422 [==============================] - 42s 99ms/step - loss: 0.0880 - accuracy: 0.9730 - val_loss: 0.0536 - val_accuracy: 0.9845\n",
            "Epoch 4/15\n",
            "422/422 [==============================] - 42s 99ms/step - loss: 0.0732 - accuracy: 0.9769 - val_loss: 0.0424 - val_accuracy: 0.9877\n",
            "Epoch 5/15\n",
            "422/422 [==============================] - 41s 98ms/step - loss: 0.0635 - accuracy: 0.9800 - val_loss: 0.0402 - val_accuracy: 0.9882\n",
            "Epoch 6/15\n",
            "422/422 [==============================] - 42s 99ms/step - loss: 0.0571 - accuracy: 0.9821 - val_loss: 0.0364 - val_accuracy: 0.9900\n",
            "Epoch 7/15\n",
            "422/422 [==============================] - 42s 99ms/step - loss: 0.0528 - accuracy: 0.9833 - val_loss: 0.0344 - val_accuracy: 0.9897\n",
            "Epoch 8/15\n",
            "422/422 [==============================] - 42s 100ms/step - loss: 0.0485 - accuracy: 0.9849 - val_loss: 0.0343 - val_accuracy: 0.9903\n",
            "Epoch 9/15\n",
            "422/422 [==============================] - 42s 100ms/step - loss: 0.0447 - accuracy: 0.9857 - val_loss: 0.0335 - val_accuracy: 0.9908\n",
            "Epoch 10/15\n",
            "422/422 [==============================] - 42s 100ms/step - loss: 0.0429 - accuracy: 0.9864 - val_loss: 0.0327 - val_accuracy: 0.9912\n",
            "Epoch 11/15\n",
            "422/422 [==============================] - 42s 101ms/step - loss: 0.0392 - accuracy: 0.9874 - val_loss: 0.0293 - val_accuracy: 0.9927\n",
            "Epoch 12/15\n",
            "422/422 [==============================] - 42s 100ms/step - loss: 0.0393 - accuracy: 0.9880 - val_loss: 0.0292 - val_accuracy: 0.9928\n",
            "Epoch 13/15\n",
            "422/422 [==============================] - 42s 99ms/step - loss: 0.0364 - accuracy: 0.9883 - val_loss: 0.0308 - val_accuracy: 0.9908\n",
            "Epoch 14/15\n",
            "422/422 [==============================] - 41s 98ms/step - loss: 0.0333 - accuracy: 0.9891 - val_loss: 0.0329 - val_accuracy: 0.9908\n",
            "Epoch 15/15\n",
            "422/422 [==============================] - 41s 97ms/step - loss: 0.0332 - accuracy: 0.9893 - val_loss: 0.0310 - val_accuracy: 0.9918\n"
          ],
          "name": "stdout"
        },
        {
          "output_type": "execute_result",
          "data": {
            "text/plain": [
              "<tensorflow.python.keras.callbacks.History at 0x7fe46e374650>"
            ]
          },
          "metadata": {
            "tags": []
          },
          "execution_count": 20
        }
      ]
    },
    {
      "cell_type": "code",
      "metadata": {
        "colab": {
          "base_uri": "https://localhost:8080/"
        },
        "id": "C9Q010eDxeNH",
        "outputId": "6ae4c57a-bc87-41ef-db05-c310389a1bd5"
      },
      "source": [
        "score = model.evaluate(x_test, y_test, verbose=0)\n",
        "print(\"Test loss:\", score[0])\n",
        "print(\"Test accuracy:\", score[1])\n"
      ],
      "execution_count": 21,
      "outputs": [
        {
          "output_type": "stream",
          "text": [
            "Test loss: 0.024955255910754204\n",
            "Test accuracy: 0.9915000200271606\n"
          ],
          "name": "stdout"
        }
      ]
    },
    {
      "cell_type": "code",
      "metadata": {
        "id": "V3jTMOv_5Jzz"
      },
      "source": [
        ""
      ],
      "execution_count": null,
      "outputs": []
    }
  ]
}